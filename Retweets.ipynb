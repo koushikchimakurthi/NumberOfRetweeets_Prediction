{
 "cells": [
  {
   "cell_type": "code",
   "execution_count": 1,
   "metadata": {},
   "outputs": [
    {
     "name": "stdout",
     "output_type": "stream",
     "text": [
      "[nltk_data] Downloading package stopwords to\n",
      "[nltk_data]     C:\\Users\\personal\\AppData\\Roaming\\nltk_data...\n",
      "[nltk_data]   Package stopwords is already up-to-date!\n"
     ]
    }
   ],
   "source": [
    "import csv\n",
    "import pandas as pd\n",
    "import numpy as np\n",
    "from datetime import datetime\n",
    "import matplotlib.pyplot as plt\n",
    "import seaborn as sns\n",
    "from collections import Counter\n",
    "from sklearn.linear_model import LinearRegression, LassoLars, Ridge, ElasticNet\n",
    "from sklearn.model_selection import train_test_split\n",
    "from sklearn.tree import DecisionTreeRegressor\n",
    "from sklearn.ensemble import RandomForestRegressor\n",
    "from sklearn.metrics import mean_squared_error, accuracy_score\n",
    "from scipy import stats\n",
    "from sklearn.decomposition import PCA\n",
    "import nltk\n",
    "nltk.download('stopwords')\n",
    "from nltk.corpus import stopwords\n",
    "from sklearn.preprocessing import StandardScaler"
   ]
  },
  {
   "cell_type": "code",
   "execution_count": 2,
   "metadata": {},
   "outputs": [],
   "source": [
    "data=pd.read_excel(\"tweets.xlsx\",na_values=['none','None','NaN','N/A',' '])"
   ]
  },
  {
   "cell_type": "code",
   "execution_count": 3,
   "metadata": {},
   "outputs": [
    {
     "name": "stdout",
     "output_type": "stream",
     "text": [
      "(42368, 32)\n",
      "Index(['TweetPostedTime', 'TweetID', 'TweetBody', 'TweetRetweetFlag',\n",
      "       'TweetSource', 'TweetInReplyToStatusID', 'TweetInReplyToUserID',\n",
      "       'TweetInReplyToScreenName', 'TweetRetweetCount', 'TweetFavoritesCount',\n",
      "       'TweetHashtags', 'TweetPlaceID', 'TweetPlaceName', 'TweetPlaceFullName',\n",
      "       'TweetCountry', 'TweetPlaceBoundingBox', 'TweetPlaceAttributes',\n",
      "       'TweetPlaceContainedWithin', 'UserID', 'UserName', 'UserScreenName',\n",
      "       'UserLocation', 'UserDescription', 'UserLink', 'UserExpandedLink',\n",
      "       'UserFollowersCount', 'UserFriendsCount', 'UserListedCount',\n",
      "       'UserSignupDate', 'UserTweetCount', 'MacroIterationNumber',\n",
      "       'tweet.place'],\n",
      "      dtype='object')\n"
     ]
    },
    {
     "data": {
      "text/html": [
       "<div>\n",
       "<style scoped>\n",
       "    .dataframe tbody tr th:only-of-type {\n",
       "        vertical-align: middle;\n",
       "    }\n",
       "\n",
       "    .dataframe tbody tr th {\n",
       "        vertical-align: top;\n",
       "    }\n",
       "\n",
       "    .dataframe thead th {\n",
       "        text-align: right;\n",
       "    }\n",
       "</style>\n",
       "<table border=\"1\" class=\"dataframe\">\n",
       "  <thead>\n",
       "    <tr style=\"text-align: right;\">\n",
       "      <th></th>\n",
       "      <th>TweetPostedTime</th>\n",
       "      <th>TweetID</th>\n",
       "      <th>TweetBody</th>\n",
       "      <th>TweetRetweetFlag</th>\n",
       "      <th>TweetSource</th>\n",
       "      <th>TweetInReplyToStatusID</th>\n",
       "      <th>TweetInReplyToUserID</th>\n",
       "      <th>TweetInReplyToScreenName</th>\n",
       "      <th>TweetRetweetCount</th>\n",
       "      <th>TweetFavoritesCount</th>\n",
       "      <th>...</th>\n",
       "      <th>UserDescription</th>\n",
       "      <th>UserLink</th>\n",
       "      <th>UserExpandedLink</th>\n",
       "      <th>UserFollowersCount</th>\n",
       "      <th>UserFriendsCount</th>\n",
       "      <th>UserListedCount</th>\n",
       "      <th>UserSignupDate</th>\n",
       "      <th>UserTweetCount</th>\n",
       "      <th>MacroIterationNumber</th>\n",
       "      <th>tweet.place</th>\n",
       "    </tr>\n",
       "  </thead>\n",
       "  <tbody>\n",
       "    <tr>\n",
       "      <th>0</th>\n",
       "      <td>Tue Dec 20 10:57:00 +0000 2016</td>\n",
       "      <td>811163485052817408</td>\n",
       "      <td>RT @BeachyMaldives: Local interaction is a gre...</td>\n",
       "      <td>True</td>\n",
       "      <td>&lt;a href=\"http://twitter.com/download/iphone\" r...</td>\n",
       "      <td>NaN</td>\n",
       "      <td>NaN</td>\n",
       "      <td>NaN</td>\n",
       "      <td>1</td>\n",
       "      <td>0</td>\n",
       "      <td>...</td>\n",
       "      <td>Pls donate 2 https://t.co/RvOUK9lAWI #YearEndG...</td>\n",
       "      <td>https://t.co/jghZVBsiQF</td>\n",
       "      <td>http://cjqenterprises.com</td>\n",
       "      <td>6334</td>\n",
       "      <td>6144</td>\n",
       "      <td>1917</td>\n",
       "      <td>Sun Jun 14 22:36:15 +0000 2015</td>\n",
       "      <td>33556</td>\n",
       "      <td>0</td>\n",
       "      <td>NaN</td>\n",
       "    </tr>\n",
       "    <tr>\n",
       "      <th>1</th>\n",
       "      <td>Tue Dec 20 10:56:59 +0000 2016</td>\n",
       "      <td>811163483463122944</td>\n",
       "      <td>RT @TechTerraEd: Need #giftideas for your kid(...</td>\n",
       "      <td>True</td>\n",
       "      <td>&lt;a href=\"http://twitter.com/download/iphone\" r...</td>\n",
       "      <td>NaN</td>\n",
       "      <td>NaN</td>\n",
       "      <td>NaN</td>\n",
       "      <td>1</td>\n",
       "      <td>0</td>\n",
       "      <td>...</td>\n",
       "      <td>Educator of students with special needs, Mothe...</td>\n",
       "      <td>NaN</td>\n",
       "      <td>NaN</td>\n",
       "      <td>154</td>\n",
       "      <td>371</td>\n",
       "      <td>180</td>\n",
       "      <td>Sat Jan 02 13:36:23 +0000 2010</td>\n",
       "      <td>3201</td>\n",
       "      <td>0</td>\n",
       "      <td>NaN</td>\n",
       "    </tr>\n",
       "    <tr>\n",
       "      <th>2</th>\n",
       "      <td>Tue Dec 20 10:56:55 +0000 2016</td>\n",
       "      <td>811163466387988480</td>\n",
       "      <td>Seven Questions Before Choosing a Cruise Line ...</td>\n",
       "      <td>False</td>\n",
       "      <td>&lt;a href=\"http://www.google.com/\" rel=\"nofollow...</td>\n",
       "      <td>NaN</td>\n",
       "      <td>NaN</td>\n",
       "      <td>NaN</td>\n",
       "      <td>0</td>\n",
       "      <td>0</td>\n",
       "      <td>...</td>\n",
       "      <td>Thrifty Mom Media social media consulting and ...</td>\n",
       "      <td>https://t.co/cEhGzaQJp6</td>\n",
       "      <td>http://www.thriftymommastips.com/</td>\n",
       "      <td>23433</td>\n",
       "      <td>24762</td>\n",
       "      <td>961</td>\n",
       "      <td>Tue May 26 21:26:09 +0000 2009</td>\n",
       "      <td>147958</td>\n",
       "      <td>0</td>\n",
       "      <td>NaN</td>\n",
       "    </tr>\n",
       "    <tr>\n",
       "      <th>3</th>\n",
       "      <td>Tue Dec 20 10:56:55 +0000 2016</td>\n",
       "      <td>811163465125679104</td>\n",
       "      <td>RT @CMGsportsclub: Yoga do Brasil, un havre de...</td>\n",
       "      <td>True</td>\n",
       "      <td>&lt;a href=\"https://roundteam.co\" rel=\"nofollow\"&gt;...</td>\n",
       "      <td>NaN</td>\n",
       "      <td>NaN</td>\n",
       "      <td>NaN</td>\n",
       "      <td>1</td>\n",
       "      <td>0</td>\n",
       "      <td>...</td>\n",
       "      <td>Adventure travel, yoga, paleo, Crossfit, runni...</td>\n",
       "      <td>https://t.co/3IHwXkgAkA</td>\n",
       "      <td>https://primalsanctuary.com</td>\n",
       "      <td>11136</td>\n",
       "      <td>10081</td>\n",
       "      <td>978</td>\n",
       "      <td>Sat Sep 12 20:29:18 +0000 2015</td>\n",
       "      <td>28988</td>\n",
       "      <td>0</td>\n",
       "      <td>NaN</td>\n",
       "    </tr>\n",
       "    <tr>\n",
       "      <th>4</th>\n",
       "      <td>Tue Dec 20 10:56:53 +0000 2016</td>\n",
       "      <td>811163457508642817</td>\n",
       "      <td>RT @StylishRentals: Love this! \"Palm Springs M...</td>\n",
       "      <td>True</td>\n",
       "      <td>&lt;a href=\"http://twitter.com\" rel=\"nofollow\"&gt;Tw...</td>\n",
       "      <td>NaN</td>\n",
       "      <td>NaN</td>\n",
       "      <td>NaN</td>\n",
       "      <td>3065</td>\n",
       "      <td>0</td>\n",
       "      <td>...</td>\n",
       "      <td>I really have got giant ambitions. I start com...</td>\n",
       "      <td>NaN</td>\n",
       "      <td>NaN</td>\n",
       "      <td>55</td>\n",
       "      <td>21</td>\n",
       "      <td>31</td>\n",
       "      <td>Wed Sep 07 16:22:15 +0000 2016</td>\n",
       "      <td>19581</td>\n",
       "      <td>0</td>\n",
       "      <td>NaN</td>\n",
       "    </tr>\n",
       "  </tbody>\n",
       "</table>\n",
       "<p>5 rows × 32 columns</p>\n",
       "</div>"
      ],
      "text/plain": [
       "                  TweetPostedTime             TweetID  \\\n",
       "0  Tue Dec 20 10:57:00 +0000 2016  811163485052817408   \n",
       "1  Tue Dec 20 10:56:59 +0000 2016  811163483463122944   \n",
       "2  Tue Dec 20 10:56:55 +0000 2016  811163466387988480   \n",
       "3  Tue Dec 20 10:56:55 +0000 2016  811163465125679104   \n",
       "4  Tue Dec 20 10:56:53 +0000 2016  811163457508642817   \n",
       "\n",
       "                                           TweetBody  TweetRetweetFlag  \\\n",
       "0  RT @BeachyMaldives: Local interaction is a gre...              True   \n",
       "1  RT @TechTerraEd: Need #giftideas for your kid(...              True   \n",
       "2  Seven Questions Before Choosing a Cruise Line ...             False   \n",
       "3  RT @CMGsportsclub: Yoga do Brasil, un havre de...              True   \n",
       "4  RT @StylishRentals: Love this! \"Palm Springs M...              True   \n",
       "\n",
       "                                         TweetSource  TweetInReplyToStatusID  \\\n",
       "0  <a href=\"http://twitter.com/download/iphone\" r...                     NaN   \n",
       "1  <a href=\"http://twitter.com/download/iphone\" r...                     NaN   \n",
       "2  <a href=\"http://www.google.com/\" rel=\"nofollow...                     NaN   \n",
       "3  <a href=\"https://roundteam.co\" rel=\"nofollow\">...                     NaN   \n",
       "4  <a href=\"http://twitter.com\" rel=\"nofollow\">Tw...                     NaN   \n",
       "\n",
       "   TweetInReplyToUserID TweetInReplyToScreenName  TweetRetweetCount  \\\n",
       "0                   NaN                      NaN                  1   \n",
       "1                   NaN                      NaN                  1   \n",
       "2                   NaN                      NaN                  0   \n",
       "3                   NaN                      NaN                  1   \n",
       "4                   NaN                      NaN               3065   \n",
       "\n",
       "   TweetFavoritesCount     ...      \\\n",
       "0                    0     ...       \n",
       "1                    0     ...       \n",
       "2                    0     ...       \n",
       "3                    0     ...       \n",
       "4                    0     ...       \n",
       "\n",
       "                                     UserDescription                 UserLink  \\\n",
       "0  Pls donate 2 https://t.co/RvOUK9lAWI #YearEndG...  https://t.co/jghZVBsiQF   \n",
       "1  Educator of students with special needs, Mothe...                      NaN   \n",
       "2  Thrifty Mom Media social media consulting and ...  https://t.co/cEhGzaQJp6   \n",
       "3  Adventure travel, yoga, paleo, Crossfit, runni...  https://t.co/3IHwXkgAkA   \n",
       "4  I really have got giant ambitions. I start com...                      NaN   \n",
       "\n",
       "                    UserExpandedLink UserFollowersCount UserFriendsCount  \\\n",
       "0          http://cjqenterprises.com               6334             6144   \n",
       "1                                NaN                154              371   \n",
       "2  http://www.thriftymommastips.com/              23433            24762   \n",
       "3        https://primalsanctuary.com              11136            10081   \n",
       "4                                NaN                 55               21   \n",
       "\n",
       "  UserListedCount                  UserSignupDate  UserTweetCount  \\\n",
       "0            1917  Sun Jun 14 22:36:15 +0000 2015           33556   \n",
       "1             180  Sat Jan 02 13:36:23 +0000 2010            3201   \n",
       "2             961  Tue May 26 21:26:09 +0000 2009          147958   \n",
       "3             978  Sat Sep 12 20:29:18 +0000 2015           28988   \n",
       "4              31  Wed Sep 07 16:22:15 +0000 2016           19581   \n",
       "\n",
       "   MacroIterationNumber tweet.place  \n",
       "0                     0         NaN  \n",
       "1                     0         NaN  \n",
       "2                     0         NaN  \n",
       "3                     0         NaN  \n",
       "4                     0         NaN  \n",
       "\n",
       "[5 rows x 32 columns]"
      ]
     },
     "execution_count": 3,
     "metadata": {},
     "output_type": "execute_result"
    }
   ],
   "source": [
    "print(data.shape)\n",
    "print(data.columns)\n",
    "data.head()"
   ]
  },
  {
   "cell_type": "code",
   "execution_count": 4,
   "metadata": {},
   "outputs": [
    {
     "data": {
      "text/plain": [
       "TweetPostedTime               object\n",
       "TweetID                        int64\n",
       "TweetBody                     object\n",
       "TweetRetweetFlag                bool\n",
       "TweetSource                   object\n",
       "TweetInReplyToStatusID       float64\n",
       "TweetInReplyToUserID         float64\n",
       "TweetInReplyToScreenName      object\n",
       "TweetRetweetCount              int64\n",
       "TweetFavoritesCount            int64\n",
       "TweetHashtags                 object\n",
       "TweetPlaceID                  object\n",
       "TweetPlaceName                object\n",
       "TweetPlaceFullName            object\n",
       "TweetCountry                  object\n",
       "TweetPlaceBoundingBox         object\n",
       "TweetPlaceAttributes         float64\n",
       "TweetPlaceContainedWithin    float64\n",
       "UserID                         int64\n",
       "UserName                      object\n",
       "UserScreenName                object\n",
       "UserLocation                  object\n",
       "UserDescription               object\n",
       "UserLink                      object\n",
       "UserExpandedLink              object\n",
       "UserFollowersCount             int64\n",
       "UserFriendsCount               int64\n",
       "UserListedCount                int64\n",
       "UserSignupDate                object\n",
       "UserTweetCount                 int64\n",
       "MacroIterationNumber           int64\n",
       "tweet.place                   object\n",
       "dtype: object"
      ]
     },
     "execution_count": 4,
     "metadata": {},
     "output_type": "execute_result"
    }
   ],
   "source": [
    "data.dtypes"
   ]
  },
  {
   "cell_type": "code",
   "execution_count": 5,
   "metadata": {},
   "outputs": [
    {
     "data": {
      "text/plain": [
       "TweetPostedTime                  0\n",
       "TweetID                          0\n",
       "TweetBody                        0\n",
       "TweetRetweetFlag                 0\n",
       "TweetSource                      0\n",
       "TweetInReplyToStatusID       42267\n",
       "TweetInReplyToUserID         42179\n",
       "TweetInReplyToScreenName     42179\n",
       "TweetRetweetCount                0\n",
       "TweetFavoritesCount              0\n",
       "TweetHashtags                  100\n",
       "TweetPlaceID                 41368\n",
       "TweetPlaceName               41368\n",
       "TweetPlaceFullName           41368\n",
       "TweetCountry                 41369\n",
       "TweetPlaceBoundingBox        41368\n",
       "TweetPlaceAttributes         42368\n",
       "TweetPlaceContainedWithin    42368\n",
       "UserID                           0\n",
       "UserName                         0\n",
       "UserScreenName                   0\n",
       "UserLocation                 16027\n",
       "UserDescription               4365\n",
       "UserLink                     25769\n",
       "UserExpandedLink             25806\n",
       "UserFollowersCount               0\n",
       "UserFriendsCount                 0\n",
       "UserListedCount                  0\n",
       "UserSignupDate                   0\n",
       "UserTweetCount                   0\n",
       "MacroIterationNumber             0\n",
       "tweet.place                  41368\n",
       "dtype: int64"
      ]
     },
     "execution_count": 5,
     "metadata": {},
     "output_type": "execute_result"
    }
   ],
   "source": [
    "data.isna().sum()"
   ]
  },
  {
   "cell_type": "code",
   "execution_count": 6,
   "metadata": {},
   "outputs": [],
   "source": [
    "#Dropping columns which are having significant amount of null values"
   ]
  },
  {
   "cell_type": "code",
   "execution_count": 7,
   "metadata": {},
   "outputs": [
    {
     "data": {
      "text/plain": [
       "(42368, 17)"
      ]
     },
     "execution_count": 7,
     "metadata": {},
     "output_type": "execute_result"
    }
   ],
   "source": [
    "data.drop(['TweetInReplyToStatusID','TweetInReplyToUserID','TweetInReplyToScreenName','TweetPlaceID','TweetPlaceName',\n",
    "            'UserLocation','UserLink','UserExpandedLink','TweetPlaceFullName','TweetCountry','TweetPlaceBoundingBox','TweetPlaceAttributes','TweetPlaceContainedWithin',\n",
    "          'tweet.place','UserID'],axis=1,inplace=True)\n",
    "data.shape"
   ]
  },
  {
   "cell_type": "code",
   "execution_count": 8,
   "metadata": {
    "scrolled": true
   },
   "outputs": [
    {
     "data": {
      "text/plain": [
       "TweetPostedTime            0\n",
       "TweetID                    0\n",
       "TweetBody                  0\n",
       "TweetRetweetFlag           0\n",
       "TweetSource                0\n",
       "TweetRetweetCount          0\n",
       "TweetFavoritesCount        0\n",
       "TweetHashtags            100\n",
       "UserName                   0\n",
       "UserScreenName             0\n",
       "UserDescription         4365\n",
       "UserFollowersCount         0\n",
       "UserFriendsCount           0\n",
       "UserListedCount            0\n",
       "UserSignupDate             0\n",
       "UserTweetCount             0\n",
       "MacroIterationNumber       0\n",
       "dtype: int64"
      ]
     },
     "execution_count": 8,
     "metadata": {},
     "output_type": "execute_result"
    }
   ],
   "source": [
    "data.isna().sum()"
   ]
  },
  {
   "cell_type": "code",
   "execution_count": 9,
   "metadata": {},
   "outputs": [],
   "source": [
    "data1=data[['TweetRetweetFlag','UserFollowersCount','UserFriendsCount','UserTweetCount','MacroIterationNumber','TweetRetweetCount'\n",
    "            ,'TweetFavoritesCount','UserListedCount']]\n"
   ]
  },
  {
   "cell_type": "code",
   "execution_count": 10,
   "metadata": {},
   "outputs": [],
   "source": [
    "#Boxplot of the 8 columns which i took for seeing if there are iutliers"
   ]
  },
  {
   "cell_type": "code",
   "execution_count": 11,
   "metadata": {},
   "outputs": [
    {
     "data": {
      "text/plain": [
       "<matplotlib.axes._subplots.AxesSubplot at 0x1bebbc8e240>"
      ]
     },
     "execution_count": 11,
     "metadata": {},
     "output_type": "execute_result"
    },
    {
     "data": {
      "image/png": "[encoded data removed]",
      "text/plain": [
       "<Figure size 1440x1440 with 1 Axes>"
      ]
     },
     "metadata": {},
     "output_type": "display_data"
    }
   ],
   "source": [
    "data1.boxplot(figsize=(20,20))"
   ]
  },
  {
   "cell_type": "code",
   "execution_count": 12,
   "metadata": {},
   "outputs": [
    {
     "data": {
      "text/plain": [
       "<matplotlib.axes._subplots.AxesSubplot at 0x1beb6ccf588>"
      ]
     },
     "execution_count": 12,
     "metadata": {},
     "output_type": "execute_result"
    },
    {
     "data": {
      "image/png": "[encoded data removed]",
      "text/plain": [
       "<Figure size 504x1080 with 1 Axes>"
      ]
     },
     "metadata": {},
     "output_type": "display_data"
    }
   ],
   "source": [
    "data1.boxplot(column='UserFollowersCount',figsize=(7,15))"
   ]
  },
  {
   "cell_type": "code",
   "execution_count": 13,
   "metadata": {},
   "outputs": [
    {
     "name": "stdout",
     "output_type": "stream",
     "text": [
      "TweetRetweetFlag        0\n",
      "UserFollowersCount      0\n",
      "UserFriendsCount        0\n",
      "UserTweetCount          0\n",
      "MacroIterationNumber    0\n",
      "TweetRetweetCount       0\n",
      "TweetFavoritesCount     0\n",
      "UserListedCount         0\n",
      "dtype: int64\n",
      "TweetRetweetFlag         bool\n",
      "UserFollowersCount      int64\n",
      "UserFriendsCount        int64\n",
      "UserTweetCount          int64\n",
      "MacroIterationNumber    int64\n",
      "TweetRetweetCount       int64\n",
      "TweetFavoritesCount     int64\n",
      "UserListedCount         int64\n",
      "dtype: object\n"
     ]
    }
   ],
   "source": [
    "print(data1.isna().sum())\n",
    "print(data1.dtypes)"
   ]
  },
  {
   "cell_type": "code",
   "execution_count": 14,
   "metadata": {},
   "outputs": [],
   "source": [
    "#Checking the outliers"
   ]
  },
  {
   "cell_type": "code",
   "execution_count": 15,
   "metadata": {},
   "outputs": [
    {
     "name": "stdout",
     "output_type": "stream",
     "text": [
      "TweetRetweetFlag            1.00\n",
      "UserFollowersCount       1779.25\n",
      "UserFriendsCount         1740.00\n",
      "UserTweetCount          30480.50\n",
      "MacroIterationNumber      222.00\n",
      "TweetRetweetCount        3069.00\n",
      "TweetFavoritesCount         0.00\n",
      "UserListedCount           200.00\n",
      "dtype: float64\n",
      "       TweetRetweetFlag  UserFollowersCount  UserFriendsCount  UserTweetCount  \\\n",
      "0                 False                True              True           False   \n",
      "1                 False               False             False           False   \n",
      "2                 False                True              True            True   \n",
      "3                 False                True              True           False   \n",
      "4                 False               False             False           False   \n",
      "5                 False               False             False           False   \n",
      "6                 False               False             False           False   \n",
      "7                 False               False             False           False   \n",
      "8                 False               False             False           False   \n",
      "9                 False               False             False           False   \n",
      "10                False               False             False           False   \n",
      "11                False                True             False            True   \n",
      "12                False               False             False           False   \n",
      "13                False               False             False           False   \n",
      "14                False               False             False           False   \n",
      "15                False                True              True           False   \n",
      "16                False               False             False           False   \n",
      "17                False               False             False           False   \n",
      "18                False               False             False           False   \n",
      "19                False               False             False           False   \n",
      "20                False               False             False           False   \n",
      "21                False               False             False           False   \n",
      "22                False                True              True           False   \n",
      "23                False                True              True            True   \n",
      "24                False                True             False            True   \n",
      "25                False                True             False            True   \n",
      "26                False                True              True            True   \n",
      "27                False               False             False           False   \n",
      "28                False               False             False           False   \n",
      "29                False               False             False           False   \n",
      "...                 ...                 ...               ...             ...   \n",
      "42338             False               False             False           False   \n",
      "42339             False               False             False           False   \n",
      "42340             False               False             False           False   \n",
      "42341             False               False             False           False   \n",
      "42342             False               False             False           False   \n",
      "42343             False               False             False           False   \n",
      "42344             False               False             False           False   \n",
      "42345             False               False             False           False   \n",
      "42346             False               False             False           False   \n",
      "42347             False               False             False           False   \n",
      "42348             False               False             False           False   \n",
      "42349             False                True              True           False   \n",
      "42350             False               False             False           False   \n",
      "42351             False               False             False           False   \n",
      "42352             False               False             False           False   \n",
      "42353             False               False             False           False   \n",
      "42354             False               False             False           False   \n",
      "42355             False                True              True            True   \n",
      "42356             False               False             False           False   \n",
      "42357             False               False             False           False   \n",
      "42358             False               False             False           False   \n",
      "42359             False               False             False           False   \n",
      "42360             False               False             False           False   \n",
      "42361             False               False             False           False   \n",
      "42362             False               False             False           False   \n",
      "42363             False               False             False           False   \n",
      "42364             False               False             False           False   \n",
      "42365             False               False             False           False   \n",
      "42366             False               False             False           False   \n",
      "42367             False               False             False           False   \n",
      "\n",
      "       MacroIterationNumber  TweetRetweetCount  TweetFavoritesCount  \\\n",
      "0                     False              False                False   \n",
      "1                     False              False                False   \n",
      "2                     False              False                False   \n",
      "3                     False              False                False   \n",
      "4                     False              False                False   \n",
      "5                     False              False                False   \n",
      "6                     False              False                False   \n",
      "7                     False              False                False   \n",
      "8                     False              False                False   \n",
      "9                     False              False                False   \n",
      "10                    False              False                False   \n",
      "11                    False              False                False   \n",
      "12                    False              False                False   \n",
      "13                    False              False                False   \n",
      "14                    False              False                False   \n",
      "15                    False              False                False   \n",
      "16                    False              False                False   \n",
      "17                    False              False                False   \n",
      "18                    False              False                False   \n",
      "19                    False              False                False   \n",
      "20                    False              False                False   \n",
      "21                    False              False                False   \n",
      "22                    False              False                False   \n",
      "23                    False              False                False   \n",
      "24                    False              False                False   \n",
      "25                    False              False                False   \n",
      "26                    False              False                False   \n",
      "27                    False              False                False   \n",
      "28                    False              False                False   \n",
      "29                    False              False                False   \n",
      "...                     ...                ...                  ...   \n",
      "42338                 False              False                False   \n",
      "42339                 False              False                False   \n",
      "42340                 False              False                False   \n",
      "42341                 False              False                False   \n",
      "42342                 False              False                False   \n",
      "42343                 False              False                False   \n",
      "42344                 False              False                False   \n",
      "42345                 False              False                False   \n",
      "42346                 False              False                False   \n",
      "42347                 False              False                False   \n",
      "42348                 False              False                False   \n",
      "42349                 False              False                False   \n",
      "42350                 False              False                False   \n",
      "42351                 False              False                False   \n",
      "42352                 False              False                False   \n",
      "42353                 False              False                False   \n",
      "42354                 False              False                 True   \n",
      "42355                 False              False                False   \n",
      "42356                 False              False                False   \n",
      "42357                 False              False                False   \n",
      "42358                 False              False                False   \n",
      "42359                 False              False                False   \n",
      "42360                 False              False                False   \n",
      "42361                 False              False                False   \n",
      "42362                 False              False                False   \n",
      "42363                 False              False                False   \n",
      "42364                 False              False                False   \n",
      "42365                 False              False                False   \n",
      "42366                 False              False                False   \n",
      "42367                 False              False                False   \n",
      "\n",
      "       UserListedCount  \n",
      "0                 True  \n",
      "1                False  \n",
      "2                 True  \n",
      "3                 True  \n",
      "4                False  \n",
      "5                False  \n",
      "6                False  \n",
      "7                False  \n",
      "8                False  \n",
      "9                False  \n",
      "10               False  \n",
      "11                True  \n",
      "12               False  \n",
      "13               False  \n",
      "14               False  \n",
      "15               False  \n",
      "16               False  \n",
      "17               False  \n",
      "18               False  \n",
      "19                True  \n",
      "20               False  \n",
      "21               False  \n",
      "22                True  \n",
      "23                True  \n",
      "24                True  \n",
      "25                True  \n",
      "26                True  \n",
      "27               False  \n",
      "28               False  \n",
      "29               False  \n",
      "...                ...  \n",
      "42338            False  \n",
      "42339            False  \n",
      "42340            False  \n",
      "42341            False  \n",
      "42342            False  \n",
      "42343            False  \n",
      "42344            False  \n",
      "42345            False  \n",
      "42346            False  \n",
      "42347            False  \n",
      "42348            False  \n",
      "42349             True  \n",
      "42350            False  \n",
      "42351            False  \n",
      "42352            False  \n",
      "42353            False  \n",
      "42354            False  \n",
      "42355             True  \n",
      "42356            False  \n",
      "42357            False  \n",
      "42358            False  \n",
      "42359            False  \n",
      "42360            False  \n",
      "42361            False  \n",
      "42362            False  \n",
      "42363            False  \n",
      "42364            False  \n",
      "42365            False  \n",
      "42366            False  \n",
      "42367            False  \n",
      "\n",
      "[42368 rows x 8 columns]\n"
     ]
    }
   ],
   "source": [
    "Q1 = data1.quantile(0.25)\n",
    "Q3 = data1.quantile(0.75)\n",
    "IQR = Q3 - Q1\n",
    "print(IQR)\n",
    "x=(data1 < (Q1 - 1.5 * IQR)) |(data1 > (Q3 + 1.5 * IQR))\n",
    "#print(pd.value_counts(x.values.flatten()))\n",
    "print(x)"
   ]
  },
  {
   "cell_type": "code",
   "execution_count": 16,
   "metadata": {},
   "outputs": [],
   "source": [
    "#Removing the outliers rows from the data"
   ]
  },
  {
   "cell_type": "code",
   "execution_count": 17,
   "metadata": {},
   "outputs": [
    {
     "data": {
      "text/plain": [
       "(30532, 8)"
      ]
     },
     "execution_count": 17,
     "metadata": {},
     "output_type": "execute_result"
    }
   ],
   "source": [
    "data2 = data1[~((data1 < (Q1 - 1.5 * IQR)) |(data1 > (Q3 + 1.5 * IQR))).any(axis=1)]\n",
    "data2.shape"
   ]
  },
  {
   "cell_type": "code",
   "execution_count": 18,
   "metadata": {},
   "outputs": [],
   "source": [
    "#Correlation before removing outliers"
   ]
  },
  {
   "cell_type": "code",
   "execution_count": 19,
   "metadata": {},
   "outputs": [
    {
     "data": {
      "text/html": [
       "<div>\n",
       "<style scoped>\n",
       "    .dataframe tbody tr th:only-of-type {\n",
       "        vertical-align: middle;\n",
       "    }\n",
       "\n",
       "    .dataframe tbody tr th {\n",
       "        vertical-align: top;\n",
       "    }\n",
       "\n",
       "    .dataframe thead th {\n",
       "        text-align: right;\n",
       "    }\n",
       "</style>\n",
       "<table border=\"1\" class=\"dataframe\">\n",
       "  <thead>\n",
       "    <tr style=\"text-align: right;\">\n",
       "      <th></th>\n",
       "      <th>TweetID</th>\n",
       "      <th>TweetRetweetFlag</th>\n",
       "      <th>TweetRetweetCount</th>\n",
       "      <th>TweetFavoritesCount</th>\n",
       "      <th>UserFollowersCount</th>\n",
       "      <th>UserFriendsCount</th>\n",
       "      <th>UserListedCount</th>\n",
       "      <th>UserTweetCount</th>\n",
       "      <th>MacroIterationNumber</th>\n",
       "    </tr>\n",
       "  </thead>\n",
       "  <tbody>\n",
       "    <tr>\n",
       "      <th>TweetID</th>\n",
       "      <td>1.000000</td>\n",
       "      <td>-0.101227</td>\n",
       "      <td>-0.208759</td>\n",
       "      <td>-0.004494</td>\n",
       "      <td>0.011612</td>\n",
       "      <td>0.021227</td>\n",
       "      <td>0.001735</td>\n",
       "      <td>-0.000294</td>\n",
       "      <td>-0.997624</td>\n",
       "    </tr>\n",
       "    <tr>\n",
       "      <th>TweetRetweetFlag</th>\n",
       "      <td>-0.101227</td>\n",
       "      <td>1.000000</td>\n",
       "      <td>0.572285</td>\n",
       "      <td>-0.028226</td>\n",
       "      <td>-0.059262</td>\n",
       "      <td>-0.086097</td>\n",
       "      <td>-0.088450</td>\n",
       "      <td>-0.082030</td>\n",
       "      <td>0.093954</td>\n",
       "    </tr>\n",
       "    <tr>\n",
       "      <th>TweetRetweetCount</th>\n",
       "      <td>-0.208759</td>\n",
       "      <td>0.572285</td>\n",
       "      <td>1.000000</td>\n",
       "      <td>0.013961</td>\n",
       "      <td>-0.080224</td>\n",
       "      <td>-0.143303</td>\n",
       "      <td>-0.243823</td>\n",
       "      <td>-0.108210</td>\n",
       "      <td>0.200852</td>\n",
       "    </tr>\n",
       "    <tr>\n",
       "      <th>TweetFavoritesCount</th>\n",
       "      <td>-0.004494</td>\n",
       "      <td>-0.028226</td>\n",
       "      <td>0.013961</td>\n",
       "      <td>1.000000</td>\n",
       "      <td>0.031358</td>\n",
       "      <td>0.018708</td>\n",
       "      <td>0.009973</td>\n",
       "      <td>-0.003033</td>\n",
       "      <td>0.005040</td>\n",
       "    </tr>\n",
       "    <tr>\n",
       "      <th>UserFollowersCount</th>\n",
       "      <td>0.011612</td>\n",
       "      <td>-0.059262</td>\n",
       "      <td>-0.080224</td>\n",
       "      <td>0.031358</td>\n",
       "      <td>1.000000</td>\n",
       "      <td>0.714140</td>\n",
       "      <td>0.493029</td>\n",
       "      <td>0.154184</td>\n",
       "      <td>-0.010877</td>\n",
       "    </tr>\n",
       "    <tr>\n",
       "      <th>UserFriendsCount</th>\n",
       "      <td>0.021227</td>\n",
       "      <td>-0.086097</td>\n",
       "      <td>-0.143303</td>\n",
       "      <td>0.018708</td>\n",
       "      <td>0.714140</td>\n",
       "      <td>1.000000</td>\n",
       "      <td>0.503876</td>\n",
       "      <td>0.352575</td>\n",
       "      <td>-0.020666</td>\n",
       "    </tr>\n",
       "    <tr>\n",
       "      <th>UserListedCount</th>\n",
       "      <td>0.001735</td>\n",
       "      <td>-0.088450</td>\n",
       "      <td>-0.243823</td>\n",
       "      <td>0.009973</td>\n",
       "      <td>0.493029</td>\n",
       "      <td>0.503876</td>\n",
       "      <td>1.000000</td>\n",
       "      <td>0.532808</td>\n",
       "      <td>0.001354</td>\n",
       "    </tr>\n",
       "    <tr>\n",
       "      <th>UserTweetCount</th>\n",
       "      <td>-0.000294</td>\n",
       "      <td>-0.082030</td>\n",
       "      <td>-0.108210</td>\n",
       "      <td>-0.003033</td>\n",
       "      <td>0.154184</td>\n",
       "      <td>0.352575</td>\n",
       "      <td>0.532808</td>\n",
       "      <td>1.000000</td>\n",
       "      <td>0.002116</td>\n",
       "    </tr>\n",
       "    <tr>\n",
       "      <th>MacroIterationNumber</th>\n",
       "      <td>-0.997624</td>\n",
       "      <td>0.093954</td>\n",
       "      <td>0.200852</td>\n",
       "      <td>0.005040</td>\n",
       "      <td>-0.010877</td>\n",
       "      <td>-0.020666</td>\n",
       "      <td>0.001354</td>\n",
       "      <td>0.002116</td>\n",
       "      <td>1.000000</td>\n",
       "    </tr>\n",
       "  </tbody>\n",
       "</table>\n",
       "</div>"
      ],
      "text/plain": [
       "                       TweetID  TweetRetweetFlag  TweetRetweetCount  \\\n",
       "TweetID               1.000000         -0.101227          -0.208759   \n",
       "TweetRetweetFlag     -0.101227          1.000000           0.572285   \n",
       "TweetRetweetCount    -0.208759          0.572285           1.000000   \n",
       "TweetFavoritesCount  -0.004494         -0.028226           0.013961   \n",
       "UserFollowersCount    0.011612         -0.059262          -0.080224   \n",
       "UserFriendsCount      0.021227         -0.086097          -0.143303   \n",
       "UserListedCount       0.001735         -0.088450          -0.243823   \n",
       "UserTweetCount       -0.000294         -0.082030          -0.108210   \n",
       "MacroIterationNumber -0.997624          0.093954           0.200852   \n",
       "\n",
       "                      TweetFavoritesCount  UserFollowersCount  \\\n",
       "TweetID                         -0.004494            0.011612   \n",
       "TweetRetweetFlag                -0.028226           -0.059262   \n",
       "TweetRetweetCount                0.013961           -0.080224   \n",
       "TweetFavoritesCount              1.000000            0.031358   \n",
       "UserFollowersCount               0.031358            1.000000   \n",
       "UserFriendsCount                 0.018708            0.714140   \n",
       "UserListedCount                  0.009973            0.493029   \n",
       "UserTweetCount                  -0.003033            0.154184   \n",
       "MacroIterationNumber             0.005040           -0.010877   \n",
       "\n",
       "                      UserFriendsCount  UserListedCount  UserTweetCount  \\\n",
       "TweetID                       0.021227         0.001735       -0.000294   \n",
       "TweetRetweetFlag             -0.086097        -0.088450       -0.082030   \n",
       "TweetRetweetCount            -0.143303        -0.243823       -0.108210   \n",
       "TweetFavoritesCount           0.018708         0.009973       -0.003033   \n",
       "UserFollowersCount            0.714140         0.493029        0.154184   \n",
       "UserFriendsCount              1.000000         0.503876        0.352575   \n",
       "UserListedCount               0.503876         1.000000        0.532808   \n",
       "UserTweetCount                0.352575         0.532808        1.000000   \n",
       "MacroIterationNumber         -0.020666         0.001354        0.002116   \n",
       "\n",
       "                      MacroIterationNumber  \n",
       "TweetID                          -0.997624  \n",
       "TweetRetweetFlag                  0.093954  \n",
       "TweetRetweetCount                 0.200852  \n",
       "TweetFavoritesCount               0.005040  \n",
       "UserFollowersCount               -0.010877  \n",
       "UserFriendsCount                 -0.020666  \n",
       "UserListedCount                   0.001354  \n",
       "UserTweetCount                    0.002116  \n",
       "MacroIterationNumber              1.000000  "
      ]
     },
     "execution_count": 19,
     "metadata": {},
     "output_type": "execute_result"
    }
   ],
   "source": [
    "data.corr()"
   ]
  },
  {
   "cell_type": "code",
   "execution_count": 20,
   "metadata": {},
   "outputs": [],
   "source": [
    "#Correlation after remmoving outliers"
   ]
  },
  {
   "cell_type": "code",
   "execution_count": 21,
   "metadata": {},
   "outputs": [
    {
     "data": {
      "text/html": [
       "<div>\n",
       "<style scoped>\n",
       "    .dataframe tbody tr th:only-of-type {\n",
       "        vertical-align: middle;\n",
       "    }\n",
       "\n",
       "    .dataframe tbody tr th {\n",
       "        vertical-align: top;\n",
       "    }\n",
       "\n",
       "    .dataframe thead th {\n",
       "        text-align: right;\n",
       "    }\n",
       "</style>\n",
       "<table border=\"1\" class=\"dataframe\">\n",
       "  <thead>\n",
       "    <tr style=\"text-align: right;\">\n",
       "      <th></th>\n",
       "      <th>TweetRetweetFlag</th>\n",
       "      <th>UserFollowersCount</th>\n",
       "      <th>UserFriendsCount</th>\n",
       "      <th>UserTweetCount</th>\n",
       "      <th>MacroIterationNumber</th>\n",
       "      <th>TweetRetweetCount</th>\n",
       "      <th>TweetFavoritesCount</th>\n",
       "      <th>UserListedCount</th>\n",
       "    </tr>\n",
       "  </thead>\n",
       "  <tbody>\n",
       "    <tr>\n",
       "      <th>TweetRetweetFlag</th>\n",
       "      <td>1.000000</td>\n",
       "      <td>-0.383457</td>\n",
       "      <td>-0.299047</td>\n",
       "      <td>0.156767</td>\n",
       "      <td>0.111538</td>\n",
       "      <td>0.593528</td>\n",
       "      <td>NaN</td>\n",
       "      <td>-0.306657</td>\n",
       "    </tr>\n",
       "    <tr>\n",
       "      <th>UserFollowersCount</th>\n",
       "      <td>-0.383457</td>\n",
       "      <td>1.000000</td>\n",
       "      <td>0.705040</td>\n",
       "      <td>0.034977</td>\n",
       "      <td>-0.071736</td>\n",
       "      <td>-0.444437</td>\n",
       "      <td>NaN</td>\n",
       "      <td>0.541625</td>\n",
       "    </tr>\n",
       "    <tr>\n",
       "      <th>UserFriendsCount</th>\n",
       "      <td>-0.299047</td>\n",
       "      <td>0.705040</td>\n",
       "      <td>1.000000</td>\n",
       "      <td>-0.167236</td>\n",
       "      <td>-0.107925</td>\n",
       "      <td>-0.529263</td>\n",
       "      <td>NaN</td>\n",
       "      <td>0.352249</td>\n",
       "    </tr>\n",
       "    <tr>\n",
       "      <th>UserTweetCount</th>\n",
       "      <td>0.156767</td>\n",
       "      <td>0.034977</td>\n",
       "      <td>-0.167236</td>\n",
       "      <td>1.000000</td>\n",
       "      <td>0.170416</td>\n",
       "      <td>0.530360</td>\n",
       "      <td>NaN</td>\n",
       "      <td>0.205356</td>\n",
       "    </tr>\n",
       "    <tr>\n",
       "      <th>MacroIterationNumber</th>\n",
       "      <td>0.111538</td>\n",
       "      <td>-0.071736</td>\n",
       "      <td>-0.107925</td>\n",
       "      <td>0.170416</td>\n",
       "      <td>1.000000</td>\n",
       "      <td>0.250606</td>\n",
       "      <td>NaN</td>\n",
       "      <td>-0.048174</td>\n",
       "    </tr>\n",
       "    <tr>\n",
       "      <th>TweetRetweetCount</th>\n",
       "      <td>0.593528</td>\n",
       "      <td>-0.444437</td>\n",
       "      <td>-0.529263</td>\n",
       "      <td>0.530360</td>\n",
       "      <td>0.250606</td>\n",
       "      <td>1.000000</td>\n",
       "      <td>NaN</td>\n",
       "      <td>-0.328311</td>\n",
       "    </tr>\n",
       "    <tr>\n",
       "      <th>TweetFavoritesCount</th>\n",
       "      <td>NaN</td>\n",
       "      <td>NaN</td>\n",
       "      <td>NaN</td>\n",
       "      <td>NaN</td>\n",
       "      <td>NaN</td>\n",
       "      <td>NaN</td>\n",
       "      <td>NaN</td>\n",
       "      <td>NaN</td>\n",
       "    </tr>\n",
       "    <tr>\n",
       "      <th>UserListedCount</th>\n",
       "      <td>-0.306657</td>\n",
       "      <td>0.541625</td>\n",
       "      <td>0.352249</td>\n",
       "      <td>0.205356</td>\n",
       "      <td>-0.048174</td>\n",
       "      <td>-0.328311</td>\n",
       "      <td>NaN</td>\n",
       "      <td>1.000000</td>\n",
       "    </tr>\n",
       "  </tbody>\n",
       "</table>\n",
       "</div>"
      ],
      "text/plain": [
       "                      TweetRetweetFlag  UserFollowersCount  UserFriendsCount  \\\n",
       "TweetRetweetFlag              1.000000           -0.383457         -0.299047   \n",
       "UserFollowersCount           -0.383457            1.000000          0.705040   \n",
       "UserFriendsCount             -0.299047            0.705040          1.000000   \n",
       "UserTweetCount                0.156767            0.034977         -0.167236   \n",
       "MacroIterationNumber          0.111538           -0.071736         -0.107925   \n",
       "TweetRetweetCount             0.593528           -0.444437         -0.529263   \n",
       "TweetFavoritesCount                NaN                 NaN               NaN   \n",
       "UserListedCount              -0.306657            0.541625          0.352249   \n",
       "\n",
       "                      UserTweetCount  MacroIterationNumber  TweetRetweetCount  \\\n",
       "TweetRetweetFlag            0.156767              0.111538           0.593528   \n",
       "UserFollowersCount          0.034977             -0.071736          -0.444437   \n",
       "UserFriendsCount           -0.167236             -0.107925          -0.529263   \n",
       "UserTweetCount              1.000000              0.170416           0.530360   \n",
       "MacroIterationNumber        0.170416              1.000000           0.250606   \n",
       "TweetRetweetCount           0.530360              0.250606           1.000000   \n",
       "TweetFavoritesCount              NaN                   NaN                NaN   \n",
       "UserListedCount             0.205356             -0.048174          -0.328311   \n",
       "\n",
       "                      TweetFavoritesCount  UserListedCount  \n",
       "TweetRetweetFlag                      NaN        -0.306657  \n",
       "UserFollowersCount                    NaN         0.541625  \n",
       "UserFriendsCount                      NaN         0.352249  \n",
       "UserTweetCount                        NaN         0.205356  \n",
       "MacroIterationNumber                  NaN        -0.048174  \n",
       "TweetRetweetCount                     NaN        -0.328311  \n",
       "TweetFavoritesCount                   NaN              NaN  \n",
       "UserListedCount                       NaN         1.000000  "
      ]
     },
     "execution_count": 21,
     "metadata": {},
     "output_type": "execute_result"
    }
   ],
   "source": [
    "data2.corr()"
   ]
  },
  {
   "cell_type": "code",
   "execution_count": 22,
   "metadata": {},
   "outputs": [
    {
     "name": "stdout",
     "output_type": "stream",
     "text": [
      "(30532, 8)\n",
      "(42368,)\n"
     ]
    }
   ],
   "source": [
    "print(data2.shape)\n",
    "print(data['TweetPostedTime'].shape)"
   ]
  },
  {
   "cell_type": "code",
   "execution_count": 23,
   "metadata": {},
   "outputs": [],
   "source": [
    "#Coverting the date column into datetime datatype for selecting hour of each tweet which will be used for regression"
   ]
  },
  {
   "cell_type": "code",
   "execution_count": 24,
   "metadata": {
    "scrolled": true
   },
   "outputs": [
    {
     "name": "stderr",
     "output_type": "stream",
     "text": [
      "C:\\Users\\personal\\Anaconda3\\lib\\site-packages\\ipykernel_launcher.py:2: SettingWithCopyWarning: \n",
      "A value is trying to be set on a copy of a slice from a DataFrame.\n",
      "Try using .loc[row_indexer,col_indexer] = value instead\n",
      "\n",
      "See the caveats in the documentation: http://pandas.pydata.org/pandas-docs/stable/indexing.html#indexing-view-versus-copy\n",
      "  \n",
      "C:\\Users\\personal\\Anaconda3\\lib\\site-packages\\ipykernel_launcher.py:3: SettingWithCopyWarning: \n",
      "A value is trying to be set on a copy of a slice from a DataFrame.\n",
      "Try using .loc[row_indexer,col_indexer] = value instead\n",
      "\n",
      "See the caveats in the documentation: http://pandas.pydata.org/pandas-docs/stable/indexing.html#indexing-view-versus-copy\n",
      "  This is separate from the ipykernel package so we can avoid doing imports until\n"
     ]
    }
   ],
   "source": [
    "df=data2\n",
    "df[\"TweetPostedHour\"]=pd.to_datetime(data[\"TweetPostedTime\"])\n",
    "df[\"TweetPostedHour\"]=df['TweetPostedHour'].apply(lambda x:x.hour)"
   ]
  },
  {
   "cell_type": "code",
   "execution_count": 25,
   "metadata": {},
   "outputs": [],
   "source": [
    "#Getting most popular 2000 hashtags and giving tag score for each tweet based on popular tags"
   ]
  },
  {
   "cell_type": "code",
   "execution_count": 26,
   "metadata": {},
   "outputs": [],
   "source": [
    "hashtags = []\n",
    "for i, h in enumerate(np.array(data['TweetHashtags'])):\n",
    "    try:\n",
    "        hashtags.append(h.split(','))\n",
    "    except:\n",
    "        pass"
   ]
  },
  {
   "cell_type": "code",
   "execution_count": 27,
   "metadata": {},
   "outputs": [
    {
     "data": {
      "text/plain": [
       "121500"
      ]
     },
     "execution_count": 27,
     "metadata": {},
     "output_type": "execute_result"
    }
   ],
   "source": [
    "list_tags = [item.lower() for sublist in hashtags for item in sublist]\n",
    "list_tags = [x.strip() for x in list_tags]\n",
    "list_tags = [x.lower() for x in list_tags]\n",
    "len(list_tags)"
   ]
  },
  {
   "cell_type": "code",
   "execution_count": 28,
   "metadata": {},
   "outputs": [
    {
     "data": {
      "text/plain": [
       "11387"
      ]
     },
     "execution_count": 28,
     "metadata": {},
     "output_type": "execute_result"
    }
   ],
   "source": [
    "set_tags=set(list_tags)\n",
    "len(set_tags)"
   ]
  },
  {
   "cell_type": "code",
   "execution_count": 29,
   "metadata": {},
   "outputs": [],
   "source": [
    "counts = Counter(list_tags)\n",
    "popular_tags = counts.most_common(2000)\n",
    "popular_tags = [x[0] for x in popular_tags]"
   ]
  },
  {
   "cell_type": "code",
   "execution_count": 30,
   "metadata": {},
   "outputs": [],
   "source": [
    "def getscore(hashtag):\n",
    "    try:\n",
    "        l = hashtag.split(',')\n",
    "        l_strip = [x.strip() for x in l]\n",
    "        l_strip = [x.lower() for x in l_strip]\n",
    "        p = set(l_strip) & set(popular_tags)\n",
    "        return len(p)\n",
    "    except:\n",
    "        return 0"
   ]
  },
  {
   "cell_type": "code",
   "execution_count": 31,
   "metadata": {
    "scrolled": true
   },
   "outputs": [
    {
     "name": "stderr",
     "output_type": "stream",
     "text": [
      "C:\\Users\\personal\\Anaconda3\\lib\\site-packages\\ipykernel_launcher.py:1: SettingWithCopyWarning: \n",
      "A value is trying to be set on a copy of a slice from a DataFrame.\n",
      "Try using .loc[row_indexer,col_indexer] = value instead\n",
      "\n",
      "See the caveats in the documentation: http://pandas.pydata.org/pandas-docs/stable/indexing.html#indexing-view-versus-copy\n",
      "  \"\"\"Entry point for launching an IPython kernel.\n"
     ]
    }
   ],
   "source": [
    "df['tag_score'] = data['TweetHashtags'].apply(getscore)"
   ]
  },
  {
   "cell_type": "code",
   "execution_count": 32,
   "metadata": {},
   "outputs": [],
   "source": [
    "#Like hashtag score similarly doing word score for tweet body"
   ]
  },
  {
   "cell_type": "code",
   "execution_count": 33,
   "metadata": {},
   "outputs": [],
   "source": [
    "words = []\n",
    "for i, h in enumerate(np.array(data['TweetBody'])):\n",
    "    try:\n",
    "        words.append(h.split(' '))\n",
    "    except:\n",
    "        pass"
   ]
  },
  {
   "cell_type": "code",
   "execution_count": 34,
   "metadata": {},
   "outputs": [
    {
     "data": {
      "text/plain": [
       "665395"
      ]
     },
     "execution_count": 34,
     "metadata": {},
     "output_type": "execute_result"
    }
   ],
   "source": [
    "list_words = [item.lower() for sublist in words for item in sublist]\n",
    "list_words = [x.strip() for x in list_words]\n",
    "list_words = [x.lower() for x in list_words]\n",
    "len(list_words)"
   ]
  },
  {
   "cell_type": "code",
   "execution_count": 35,
   "metadata": {},
   "outputs": [
    {
     "data": {
      "text/plain": [
       "66508"
      ]
     },
     "execution_count": 35,
     "metadata": {},
     "output_type": "execute_result"
    }
   ],
   "source": [
    "set_words=set(list_words)\n",
    "len(set_words)"
   ]
  },
  {
   "cell_type": "code",
   "execution_count": 36,
   "metadata": {},
   "outputs": [],
   "source": [
    "#Removing stop words because they shouldn't get counted in popular words"
   ]
  },
  {
   "cell_type": "code",
   "execution_count": 37,
   "metadata": {},
   "outputs": [
    {
     "data": {
      "text/plain": [
       "179"
      ]
     },
     "execution_count": 37,
     "metadata": {},
     "output_type": "execute_result"
    }
   ],
   "source": [
    "stop_words=set(stopwords.words('english'))\n",
    "len(stop_words)"
   ]
  },
  {
   "cell_type": "code",
   "execution_count": 38,
   "metadata": {},
   "outputs": [],
   "source": [
    "filtered_words=set_words.difference(stop_words)"
   ]
  },
  {
   "cell_type": "code",
   "execution_count": 39,
   "metadata": {},
   "outputs": [
    {
     "data": {
      "text/plain": [
       "20000"
      ]
     },
     "execution_count": 39,
     "metadata": {},
     "output_type": "execute_result"
    }
   ],
   "source": [
    "counts = Counter(list_words)\n",
    "popular_words = counts.most_common(20000)\n",
    "popular_words = [x[0] for x in popular_words]\n",
    "len(popular_words)"
   ]
  },
  {
   "cell_type": "code",
   "execution_count": 40,
   "metadata": {},
   "outputs": [
    {
     "data": {
      "text/plain": [
       "19856"
      ]
     },
     "execution_count": 40,
     "metadata": {},
     "output_type": "execute_result"
    }
   ],
   "source": [
    "popular_words=set(popular_words).difference(stop_words)\n",
    "len(popular_words)"
   ]
  },
  {
   "cell_type": "code",
   "execution_count": 41,
   "metadata": {},
   "outputs": [],
   "source": [
    "def get_bodyscore(hashtag):\n",
    "    try:\n",
    "        l = hashtag.split(',')\n",
    "        l_strip = [x.strip() for x in l]\n",
    "        l_strip = [x.lower() for x in l_strip]\n",
    "        p = set(l_strip) & set(popular_words)\n",
    "        return len(p)\n",
    "    except:\n",
    "        return 0"
   ]
  },
  {
   "cell_type": "code",
   "execution_count": 42,
   "metadata": {},
   "outputs": [
    {
     "name": "stderr",
     "output_type": "stream",
     "text": [
      "C:\\Users\\personal\\Anaconda3\\lib\\site-packages\\ipykernel_launcher.py:1: SettingWithCopyWarning: \n",
      "A value is trying to be set on a copy of a slice from a DataFrame.\n",
      "Try using .loc[row_indexer,col_indexer] = value instead\n",
      "\n",
      "See the caveats in the documentation: http://pandas.pydata.org/pandas-docs/stable/indexing.html#indexing-view-versus-copy\n",
      "  \"\"\"Entry point for launching an IPython kernel.\n"
     ]
    }
   ],
   "source": [
    "df['body_score'] = data['TweetBody'].apply(get_bodyscore)"
   ]
  },
  {
   "cell_type": "code",
   "execution_count": 43,
   "metadata": {},
   "outputs": [],
   "source": [
    "#After adding tag score and body score columns seeing the correlation values"
   ]
  },
  {
   "cell_type": "code",
   "execution_count": 44,
   "metadata": {},
   "outputs": [
    {
     "data": {
      "text/html": [
       "<div>\n",
       "<style scoped>\n",
       "    .dataframe tbody tr th:only-of-type {\n",
       "        vertical-align: middle;\n",
       "    }\n",
       "\n",
       "    .dataframe tbody tr th {\n",
       "        vertical-align: top;\n",
       "    }\n",
       "\n",
       "    .dataframe thead th {\n",
       "        text-align: right;\n",
       "    }\n",
       "</style>\n",
       "<table border=\"1\" class=\"dataframe\">\n",
       "  <thead>\n",
       "    <tr style=\"text-align: right;\">\n",
       "      <th></th>\n",
       "      <th>TweetRetweetFlag</th>\n",
       "      <th>UserFollowersCount</th>\n",
       "      <th>UserFriendsCount</th>\n",
       "      <th>UserTweetCount</th>\n",
       "      <th>MacroIterationNumber</th>\n",
       "      <th>TweetRetweetCount</th>\n",
       "      <th>TweetFavoritesCount</th>\n",
       "      <th>UserListedCount</th>\n",
       "      <th>TweetPostedHour</th>\n",
       "      <th>tag_score</th>\n",
       "      <th>body_score</th>\n",
       "    </tr>\n",
       "  </thead>\n",
       "  <tbody>\n",
       "    <tr>\n",
       "      <th>TweetRetweetFlag</th>\n",
       "      <td>1.000000</td>\n",
       "      <td>-0.383457</td>\n",
       "      <td>-0.299047</td>\n",
       "      <td>0.156767</td>\n",
       "      <td>0.111538</td>\n",
       "      <td>0.593528</td>\n",
       "      <td>NaN</td>\n",
       "      <td>-0.306657</td>\n",
       "      <td>-0.103925</td>\n",
       "      <td>-0.220603</td>\n",
       "      <td>0.168620</td>\n",
       "    </tr>\n",
       "    <tr>\n",
       "      <th>UserFollowersCount</th>\n",
       "      <td>-0.383457</td>\n",
       "      <td>1.000000</td>\n",
       "      <td>0.705040</td>\n",
       "      <td>0.034977</td>\n",
       "      <td>-0.071736</td>\n",
       "      <td>-0.444437</td>\n",
       "      <td>NaN</td>\n",
       "      <td>0.541625</td>\n",
       "      <td>0.064361</td>\n",
       "      <td>0.157098</td>\n",
       "      <td>-0.135037</td>\n",
       "    </tr>\n",
       "    <tr>\n",
       "      <th>UserFriendsCount</th>\n",
       "      <td>-0.299047</td>\n",
       "      <td>0.705040</td>\n",
       "      <td>1.000000</td>\n",
       "      <td>-0.167236</td>\n",
       "      <td>-0.107925</td>\n",
       "      <td>-0.529263</td>\n",
       "      <td>NaN</td>\n",
       "      <td>0.352249</td>\n",
       "      <td>0.098019</td>\n",
       "      <td>0.334729</td>\n",
       "      <td>-0.185463</td>\n",
       "    </tr>\n",
       "    <tr>\n",
       "      <th>UserTweetCount</th>\n",
       "      <td>0.156767</td>\n",
       "      <td>0.034977</td>\n",
       "      <td>-0.167236</td>\n",
       "      <td>1.000000</td>\n",
       "      <td>0.170416</td>\n",
       "      <td>0.530360</td>\n",
       "      <td>NaN</td>\n",
       "      <td>0.205356</td>\n",
       "      <td>-0.162130</td>\n",
       "      <td>-0.462787</td>\n",
       "      <td>0.182137</td>\n",
       "    </tr>\n",
       "    <tr>\n",
       "      <th>MacroIterationNumber</th>\n",
       "      <td>0.111538</td>\n",
       "      <td>-0.071736</td>\n",
       "      <td>-0.107925</td>\n",
       "      <td>0.170416</td>\n",
       "      <td>1.000000</td>\n",
       "      <td>0.250606</td>\n",
       "      <td>NaN</td>\n",
       "      <td>-0.048174</td>\n",
       "      <td>-0.992029</td>\n",
       "      <td>-0.168196</td>\n",
       "      <td>-0.150003</td>\n",
       "    </tr>\n",
       "    <tr>\n",
       "      <th>TweetRetweetCount</th>\n",
       "      <td>0.593528</td>\n",
       "      <td>-0.444437</td>\n",
       "      <td>-0.529263</td>\n",
       "      <td>0.530360</td>\n",
       "      <td>0.250606</td>\n",
       "      <td>1.000000</td>\n",
       "      <td>NaN</td>\n",
       "      <td>-0.328311</td>\n",
       "      <td>-0.233988</td>\n",
       "      <td>-0.563381</td>\n",
       "      <td>0.346277</td>\n",
       "    </tr>\n",
       "    <tr>\n",
       "      <th>TweetFavoritesCount</th>\n",
       "      <td>NaN</td>\n",
       "      <td>NaN</td>\n",
       "      <td>NaN</td>\n",
       "      <td>NaN</td>\n",
       "      <td>NaN</td>\n",
       "      <td>NaN</td>\n",
       "      <td>NaN</td>\n",
       "      <td>NaN</td>\n",
       "      <td>NaN</td>\n",
       "      <td>NaN</td>\n",
       "      <td>NaN</td>\n",
       "    </tr>\n",
       "    <tr>\n",
       "      <th>UserListedCount</th>\n",
       "      <td>-0.306657</td>\n",
       "      <td>0.541625</td>\n",
       "      <td>0.352249</td>\n",
       "      <td>0.205356</td>\n",
       "      <td>-0.048174</td>\n",
       "      <td>-0.328311</td>\n",
       "      <td>NaN</td>\n",
       "      <td>1.000000</td>\n",
       "      <td>0.039517</td>\n",
       "      <td>0.070083</td>\n",
       "      <td>-0.105606</td>\n",
       "    </tr>\n",
       "    <tr>\n",
       "      <th>TweetPostedHour</th>\n",
       "      <td>-0.103925</td>\n",
       "      <td>0.064361</td>\n",
       "      <td>0.098019</td>\n",
       "      <td>-0.162130</td>\n",
       "      <td>-0.992029</td>\n",
       "      <td>-0.233988</td>\n",
       "      <td>NaN</td>\n",
       "      <td>0.039517</td>\n",
       "      <td>1.000000</td>\n",
       "      <td>0.157206</td>\n",
       "      <td>0.157391</td>\n",
       "    </tr>\n",
       "    <tr>\n",
       "      <th>tag_score</th>\n",
       "      <td>-0.220603</td>\n",
       "      <td>0.157098</td>\n",
       "      <td>0.334729</td>\n",
       "      <td>-0.462787</td>\n",
       "      <td>-0.168196</td>\n",
       "      <td>-0.563381</td>\n",
       "      <td>NaN</td>\n",
       "      <td>0.070083</td>\n",
       "      <td>0.157206</td>\n",
       "      <td>1.000000</td>\n",
       "      <td>-0.216927</td>\n",
       "    </tr>\n",
       "    <tr>\n",
       "      <th>body_score</th>\n",
       "      <td>0.168620</td>\n",
       "      <td>-0.135037</td>\n",
       "      <td>-0.185463</td>\n",
       "      <td>0.182137</td>\n",
       "      <td>-0.150003</td>\n",
       "      <td>0.346277</td>\n",
       "      <td>NaN</td>\n",
       "      <td>-0.105606</td>\n",
       "      <td>0.157391</td>\n",
       "      <td>-0.216927</td>\n",
       "      <td>1.000000</td>\n",
       "    </tr>\n",
       "  </tbody>\n",
       "</table>\n",
       "</div>"
      ],
      "text/plain": [
       "                      TweetRetweetFlag  UserFollowersCount  UserFriendsCount  \\\n",
       "TweetRetweetFlag              1.000000           -0.383457         -0.299047   \n",
       "UserFollowersCount           -0.383457            1.000000          0.705040   \n",
       "UserFriendsCount             -0.299047            0.705040          1.000000   \n",
       "UserTweetCount                0.156767            0.034977         -0.167236   \n",
       "MacroIterationNumber          0.111538           -0.071736         -0.107925   \n",
       "TweetRetweetCount             0.593528           -0.444437         -0.529263   \n",
       "TweetFavoritesCount                NaN                 NaN               NaN   \n",
       "UserListedCount              -0.306657            0.541625          0.352249   \n",
       "TweetPostedHour              -0.103925            0.064361          0.098019   \n",
       "tag_score                    -0.220603            0.157098          0.334729   \n",
       "body_score                    0.168620           -0.135037         -0.185463   \n",
       "\n",
       "                      UserTweetCount  MacroIterationNumber  TweetRetweetCount  \\\n",
       "TweetRetweetFlag            0.156767              0.111538           0.593528   \n",
       "UserFollowersCount          0.034977             -0.071736          -0.444437   \n",
       "UserFriendsCount           -0.167236             -0.107925          -0.529263   \n",
       "UserTweetCount              1.000000              0.170416           0.530360   \n",
       "MacroIterationNumber        0.170416              1.000000           0.250606   \n",
       "TweetRetweetCount           0.530360              0.250606           1.000000   \n",
       "TweetFavoritesCount              NaN                   NaN                NaN   \n",
       "UserListedCount             0.205356             -0.048174          -0.328311   \n",
       "TweetPostedHour            -0.162130             -0.992029          -0.233988   \n",
       "tag_score                  -0.462787             -0.168196          -0.563381   \n",
       "body_score                  0.182137             -0.150003           0.346277   \n",
       "\n",
       "                      TweetFavoritesCount  UserListedCount  TweetPostedHour  \\\n",
       "TweetRetweetFlag                      NaN        -0.306657        -0.103925   \n",
       "UserFollowersCount                    NaN         0.541625         0.064361   \n",
       "UserFriendsCount                      NaN         0.352249         0.098019   \n",
       "UserTweetCount                        NaN         0.205356        -0.162130   \n",
       "MacroIterationNumber                  NaN        -0.048174        -0.992029   \n",
       "TweetRetweetCount                     NaN        -0.328311        -0.233988   \n",
       "TweetFavoritesCount                   NaN              NaN              NaN   \n",
       "UserListedCount                       NaN         1.000000         0.039517   \n",
       "TweetPostedHour                       NaN         0.039517         1.000000   \n",
       "tag_score                             NaN         0.070083         0.157206   \n",
       "body_score                            NaN        -0.105606         0.157391   \n",
       "\n",
       "                      tag_score  body_score  \n",
       "TweetRetweetFlag      -0.220603    0.168620  \n",
       "UserFollowersCount     0.157098   -0.135037  \n",
       "UserFriendsCount       0.334729   -0.185463  \n",
       "UserTweetCount        -0.462787    0.182137  \n",
       "MacroIterationNumber  -0.168196   -0.150003  \n",
       "TweetRetweetCount     -0.563381    0.346277  \n",
       "TweetFavoritesCount         NaN         NaN  \n",
       "UserListedCount        0.070083   -0.105606  \n",
       "TweetPostedHour        0.157206    0.157391  \n",
       "tag_score              1.000000   -0.216927  \n",
       "body_score            -0.216927    1.000000  "
      ]
     },
     "execution_count": 44,
     "metadata": {},
     "output_type": "execute_result"
    }
   ],
   "source": [
    "df.corr()"
   ]
  },
  {
   "cell_type": "code",
   "execution_count": 45,
   "metadata": {},
   "outputs": [
    {
     "data": {
      "text/plain": [
       "Index(['TweetRetweetFlag', 'UserFollowersCount', 'UserFriendsCount',\n",
       "       'UserTweetCount', 'MacroIterationNumber', 'TweetRetweetCount',\n",
       "       'TweetFavoritesCount', 'UserListedCount', 'TweetPostedHour',\n",
       "       'tag_score', 'body_score'],\n",
       "      dtype='object')"
      ]
     },
     "execution_count": 45,
     "metadata": {},
     "output_type": "execute_result"
    }
   ],
   "source": [
    "df.columns"
   ]
  },
  {
   "cell_type": "code",
   "execution_count": 46,
   "metadata": {},
   "outputs": [],
   "source": [
    "df_filtered=df[['TweetPostedHour', 'tag_score','TweetRetweetFlag','TweetRetweetCount','body_score',\n",
    "              'UserFollowersCount','UserFriendsCount','UserTweetCount','MacroIterationNumber']]"
   ]
  },
  {
   "cell_type": "code",
   "execution_count": 47,
   "metadata": {},
   "outputs": [
    {
     "data": {
      "text/plain": [
       "(30532, 9)"
      ]
     },
     "execution_count": 47,
     "metadata": {},
     "output_type": "execute_result"
    }
   ],
   "source": [
    "df_filtered.shape"
   ]
  },
  {
   "cell_type": "code",
   "execution_count": 48,
   "metadata": {},
   "outputs": [
    {
     "data": {
      "text/plain": [
       "(30532, 8)"
      ]
     },
     "execution_count": 48,
     "metadata": {},
     "output_type": "execute_result"
    }
   ],
   "source": [
    "x=df_filtered[['TweetPostedHour', 'tag_score','TweetRetweetFlag','body_score',\n",
    "              'UserFollowersCount','UserFriendsCount','UserTweetCount','MacroIterationNumber']]\n",
    "y=df_filtered['TweetRetweetCount']\n",
    "x.shape"
   ]
  },
  {
   "cell_type": "code",
   "execution_count": 49,
   "metadata": {},
   "outputs": [],
   "source": [
    "#Normalizing the values using standard scalar"
   ]
  },
  {
   "cell_type": "code",
   "execution_count": 50,
   "metadata": {},
   "outputs": [
    {
     "data": {
      "text/plain": [
       "(30532, 8)"
      ]
     },
     "execution_count": 50,
     "metadata": {},
     "output_type": "execute_result"
    }
   ],
   "source": [
    "scaler = StandardScaler()\n",
    "scaler.fit(x)\n",
    "z=scaler.transform(x)\n",
    "x=pd.DataFrame(z,columns=['TweetPostedHour', 'tag_score','TweetRetweetFlag','body_score',\n",
    "              'UserFollowersCount','UserFriendsCount','UserTweetCount','MacroIterationNumber'])\n",
    "x.shape"
   ]
  },
  {
   "cell_type": "code",
   "execution_count": 51,
   "metadata": {},
   "outputs": [
    {
     "name": "stdout",
     "output_type": "stream",
     "text": [
      "(30532, 8)   (30532,)\n"
     ]
    }
   ],
   "source": [
    "print(x.shape,' ',\n",
    "y.shape)"
   ]
  },
  {
   "cell_type": "code",
   "execution_count": 52,
   "metadata": {},
   "outputs": [],
   "source": [
    "#Training-test split: arbitrary 70-30 split\n",
    "x_train, x_test, y_train, y_test = train_test_split(x, y, test_size=0.3, random_state=0)"
   ]
  },
  {
   "cell_type": "code",
   "execution_count": 53,
   "metadata": {},
   "outputs": [
    {
     "name": "stdout",
     "output_type": "stream",
     "text": [
      "[ 376.85807993 -316.60608687  536.2815578   235.22325409 -215.42885833\n",
      " -228.35890651  455.24415791  551.13634635] 1497.8077062062657\n",
      "0.7297189024131914\n"
     ]
    }
   ],
   "source": [
    "lr = LinearRegression()\n",
    "lr.fit(x_train, y_train)\n",
    "print(lr.coef_, lr.intercept_)\n",
    "print(lr.score(x_train, y_train))"
   ]
  },
  {
   "cell_type": "code",
   "execution_count": 54,
   "metadata": {},
   "outputs": [
    {
     "name": "stdout",
     "output_type": "stream",
     "text": [
      "0.987016611392877\n"
     ]
    }
   ],
   "source": [
    "#Training Decision Tree\n",
    "model_dt = DecisionTreeRegressor(max_depth=4)\n",
    "model_dt.fit(x_train, y_train)\n",
    "print(model_dt.score(x_train, y_train))"
   ]
  },
  {
   "cell_type": "code",
   "execution_count": 55,
   "metadata": {},
   "outputs": [
    {
     "name": "stdout",
     "output_type": "stream",
     "text": [
      "[0.00048425 0.47284685 0.05016182 0.00175086 0.02740879 0.41989477\n",
      " 0.00778029 0.01967237]\n",
      "0.9990804297330819\n"
     ]
    }
   ],
   "source": [
    "#Training:\n",
    "#Random Forest regression\n",
    "\n",
    "rf = RandomForestRegressor(n_estimators=150, min_samples_split=4)\n",
    "rf.fit(x_train, y_train)\n",
    "print(rf.feature_importances_)\n",
    "print(rf.score(x_train, y_train))"
   ]
  },
  {
   "cell_type": "code",
   "execution_count": 56,
   "metadata": {},
   "outputs": [],
   "source": [
    "#testing the models\n",
    "#linear regression\n",
    "y_pred = lr.predict(x_test)\n",
    "#Decision tree\n",
    "y_pred_dt = model_dt.predict(x_test)\n",
    "#random forest\n",
    "y_pred_rf = rf.predict(x_test)"
   ]
  },
  {
   "cell_type": "code",
   "execution_count": 57,
   "metadata": {},
   "outputs": [
    {
     "name": "stdout",
     "output_type": "stream",
     "text": [
      "0.717233731784489\n",
      "0.9829768425219365\n",
      "0.9936108424140686\n"
     ]
    }
   ],
   "source": [
    "#measure of test set performance\n",
    "#linear regression\n",
    "print(lr.score(x_test, y_test))\n",
    "#decision tree\n",
    "print(model_dt.score(x_test, y_test))\n",
    "#random forest\n",
    "print(rf.score(x_test, y_test))"
   ]
  },
  {
   "cell_type": "code",
   "execution_count": 58,
   "metadata": {},
   "outputs": [
    {
     "name": "stdout",
     "output_type": "stream",
     "text": [
      "630360.6399563319\n",
      "37949.675655021834\n",
      "14244.485698689956\n"
     ]
    }
   ],
   "source": [
    "#linear regression\n",
    "print(mean_squared_error(y_test,y_pred.round()))\n",
    "#decision tree\n",
    "print(mean_squared_error(y_test,y_pred_dt.round()))\n",
    "#random forest\n",
    "print(mean_squared_error(y_test,y_pred_rf.round()))"
   ]
  },
  {
   "cell_type": "code",
   "execution_count": 59,
   "metadata": {},
   "outputs": [],
   "source": [
    "prediction=pd.DataFrame()\n",
    "prediction['Actual']=y_test\n",
    "prediction['y_pred_Reg']=y_pred.round()\n",
    "prediction['y_pred_dt']=y_pred_dt.round()\n",
    "prediction['y_pred_rf']=y_pred_rf.round()"
   ]
  },
  {
   "cell_type": "code",
   "execution_count": 60,
   "metadata": {},
   "outputs": [],
   "source": [
    "#Prediction table for linear regression, Decision trees and Random forest"
   ]
  },
  {
   "cell_type": "code",
   "execution_count": 61,
   "metadata": {},
   "outputs": [
    {
     "data": {
      "text/html": [
       "<div>\n",
       "<style scoped>\n",
       "    .dataframe tbody tr th:only-of-type {\n",
       "        vertical-align: middle;\n",
       "    }\n",
       "\n",
       "    .dataframe tbody tr th {\n",
       "        vertical-align: top;\n",
       "    }\n",
       "\n",
       "    .dataframe thead th {\n",
       "        text-align: right;\n",
       "    }\n",
       "</style>\n",
       "<table border=\"1\" class=\"dataframe\">\n",
       "  <thead>\n",
       "    <tr style=\"text-align: right;\">\n",
       "      <th></th>\n",
       "      <th>Actual</th>\n",
       "      <th>y_pred_Reg</th>\n",
       "      <th>y_pred_dt</th>\n",
       "      <th>y_pred_rf</th>\n",
       "    </tr>\n",
       "  </thead>\n",
       "  <tbody>\n",
       "    <tr>\n",
       "      <th>13944</th>\n",
       "      <td>4</td>\n",
       "      <td>819.0</td>\n",
       "      <td>42.0</td>\n",
       "      <td>16.0</td>\n",
       "    </tr>\n",
       "    <tr>\n",
       "      <th>36625</th>\n",
       "      <td>0</td>\n",
       "      <td>3.0</td>\n",
       "      <td>0.0</td>\n",
       "      <td>0.0</td>\n",
       "    </tr>\n",
       "    <tr>\n",
       "      <th>8804</th>\n",
       "      <td>219</td>\n",
       "      <td>477.0</td>\n",
       "      <td>420.0</td>\n",
       "      <td>221.0</td>\n",
       "    </tr>\n",
       "    <tr>\n",
       "      <th>16908</th>\n",
       "      <td>3241</td>\n",
       "      <td>2946.0</td>\n",
       "      <td>3127.0</td>\n",
       "      <td>3241.0</td>\n",
       "    </tr>\n",
       "    <tr>\n",
       "      <th>27109</th>\n",
       "      <td>3309</td>\n",
       "      <td>2683.0</td>\n",
       "      <td>3127.0</td>\n",
       "      <td>3309.0</td>\n",
       "    </tr>\n",
       "    <tr>\n",
       "      <th>26700</th>\n",
       "      <td>3309</td>\n",
       "      <td>2478.0</td>\n",
       "      <td>3127.0</td>\n",
       "      <td>3309.0</td>\n",
       "    </tr>\n",
       "    <tr>\n",
       "      <th>17653</th>\n",
       "      <td>3241</td>\n",
       "      <td>3042.0</td>\n",
       "      <td>3127.0</td>\n",
       "      <td>3241.0</td>\n",
       "    </tr>\n",
       "    <tr>\n",
       "      <th>30211</th>\n",
       "      <td>3228</td>\n",
       "      <td>2520.0</td>\n",
       "      <td>3127.0</td>\n",
       "      <td>3228.0</td>\n",
       "    </tr>\n",
       "    <tr>\n",
       "      <th>26143</th>\n",
       "      <td>3309</td>\n",
       "      <td>2233.0</td>\n",
       "      <td>3127.0</td>\n",
       "      <td>3306.0</td>\n",
       "    </tr>\n",
       "    <tr>\n",
       "      <th>17837</th>\n",
       "      <td>3241</td>\n",
       "      <td>3366.0</td>\n",
       "      <td>3127.0</td>\n",
       "      <td>3241.0</td>\n",
       "    </tr>\n",
       "    <tr>\n",
       "      <th>30927</th>\n",
       "      <td>3228</td>\n",
       "      <td>2970.0</td>\n",
       "      <td>3127.0</td>\n",
       "      <td>3225.0</td>\n",
       "    </tr>\n",
       "    <tr>\n",
       "      <th>39087</th>\n",
       "      <td>3086</td>\n",
       "      <td>2702.0</td>\n",
       "      <td>3127.0</td>\n",
       "      <td>3086.0</td>\n",
       "    </tr>\n",
       "    <tr>\n",
       "      <th>40023</th>\n",
       "      <td>3086</td>\n",
       "      <td>2748.0</td>\n",
       "      <td>3127.0</td>\n",
       "      <td>3086.0</td>\n",
       "    </tr>\n",
       "    <tr>\n",
       "      <th>18338</th>\n",
       "      <td>0</td>\n",
       "      <td>1008.0</td>\n",
       "      <td>42.0</td>\n",
       "      <td>1.0</td>\n",
       "    </tr>\n",
       "    <tr>\n",
       "      <th>21339</th>\n",
       "      <td>3180</td>\n",
       "      <td>2355.0</td>\n",
       "      <td>3127.0</td>\n",
       "      <td>3180.0</td>\n",
       "    </tr>\n",
       "    <tr>\n",
       "      <th>2536</th>\n",
       "      <td>0</td>\n",
       "      <td>149.0</td>\n",
       "      <td>0.0</td>\n",
       "      <td>0.0</td>\n",
       "    </tr>\n",
       "    <tr>\n",
       "      <th>20555</th>\n",
       "      <td>1</td>\n",
       "      <td>1523.0</td>\n",
       "      <td>48.0</td>\n",
       "      <td>56.0</td>\n",
       "    </tr>\n",
       "    <tr>\n",
       "      <th>28108</th>\n",
       "      <td>1536</td>\n",
       "      <td>1041.0</td>\n",
       "      <td>1494.0</td>\n",
       "      <td>1536.0</td>\n",
       "    </tr>\n",
       "    <tr>\n",
       "      <th>14846</th>\n",
       "      <td>0</td>\n",
       "      <td>-576.0</td>\n",
       "      <td>0.0</td>\n",
       "      <td>0.0</td>\n",
       "    </tr>\n",
       "    <tr>\n",
       "      <th>11326</th>\n",
       "      <td>57</td>\n",
       "      <td>-202.0</td>\n",
       "      <td>42.0</td>\n",
       "      <td>57.0</td>\n",
       "    </tr>\n",
       "    <tr>\n",
       "      <th>27239</th>\n",
       "      <td>0</td>\n",
       "      <td>385.0</td>\n",
       "      <td>30.0</td>\n",
       "      <td>0.0</td>\n",
       "    </tr>\n",
       "    <tr>\n",
       "      <th>14242</th>\n",
       "      <td>0</td>\n",
       "      <td>-475.0</td>\n",
       "      <td>0.0</td>\n",
       "      <td>0.0</td>\n",
       "    </tr>\n",
       "    <tr>\n",
       "      <th>22524</th>\n",
       "      <td>0</td>\n",
       "      <td>169.0</td>\n",
       "      <td>0.0</td>\n",
       "      <td>0.0</td>\n",
       "    </tr>\n",
       "    <tr>\n",
       "      <th>34426</th>\n",
       "      <td>2831</td>\n",
       "      <td>2671.0</td>\n",
       "      <td>3127.0</td>\n",
       "      <td>2831.0</td>\n",
       "    </tr>\n",
       "    <tr>\n",
       "      <th>33536</th>\n",
       "      <td>0</td>\n",
       "      <td>319.0</td>\n",
       "      <td>42.0</td>\n",
       "      <td>6.0</td>\n",
       "    </tr>\n",
       "    <tr>\n",
       "      <th>40551</th>\n",
       "      <td>9</td>\n",
       "      <td>1517.0</td>\n",
       "      <td>42.0</td>\n",
       "      <td>14.0</td>\n",
       "    </tr>\n",
       "    <tr>\n",
       "      <th>30635</th>\n",
       "      <td>1536</td>\n",
       "      <td>883.0</td>\n",
       "      <td>1494.0</td>\n",
       "      <td>1536.0</td>\n",
       "    </tr>\n",
       "    <tr>\n",
       "      <th>26229</th>\n",
       "      <td>3309</td>\n",
       "      <td>2628.0</td>\n",
       "      <td>3127.0</td>\n",
       "      <td>3309.0</td>\n",
       "    </tr>\n",
       "    <tr>\n",
       "      <th>30844</th>\n",
       "      <td>0</td>\n",
       "      <td>455.0</td>\n",
       "      <td>0.0</td>\n",
       "      <td>0.0</td>\n",
       "    </tr>\n",
       "    <tr>\n",
       "      <th>36879</th>\n",
       "      <td>0</td>\n",
       "      <td>-959.0</td>\n",
       "      <td>42.0</td>\n",
       "      <td>0.0</td>\n",
       "    </tr>\n",
       "    <tr>\n",
       "      <th>...</th>\n",
       "      <td>...</td>\n",
       "      <td>...</td>\n",
       "      <td>...</td>\n",
       "      <td>...</td>\n",
       "    </tr>\n",
       "    <tr>\n",
       "      <th>21485</th>\n",
       "      <td>3180</td>\n",
       "      <td>2728.0</td>\n",
       "      <td>3127.0</td>\n",
       "      <td>3180.0</td>\n",
       "    </tr>\n",
       "    <tr>\n",
       "      <th>14212</th>\n",
       "      <td>0</td>\n",
       "      <td>-2559.0</td>\n",
       "      <td>0.0</td>\n",
       "      <td>0.0</td>\n",
       "    </tr>\n",
       "    <tr>\n",
       "      <th>15160</th>\n",
       "      <td>3241</td>\n",
       "      <td>3374.0</td>\n",
       "      <td>3127.0</td>\n",
       "      <td>3241.0</td>\n",
       "    </tr>\n",
       "    <tr>\n",
       "      <th>15540</th>\n",
       "      <td>3241</td>\n",
       "      <td>2972.0</td>\n",
       "      <td>3127.0</td>\n",
       "      <td>3241.0</td>\n",
       "    </tr>\n",
       "    <tr>\n",
       "      <th>40070</th>\n",
       "      <td>3086</td>\n",
       "      <td>3644.0</td>\n",
       "      <td>3127.0</td>\n",
       "      <td>3086.0</td>\n",
       "    </tr>\n",
       "    <tr>\n",
       "      <th>26093</th>\n",
       "      <td>3309</td>\n",
       "      <td>2815.0</td>\n",
       "      <td>3127.0</td>\n",
       "      <td>3309.0</td>\n",
       "    </tr>\n",
       "    <tr>\n",
       "      <th>36002</th>\n",
       "      <td>0</td>\n",
       "      <td>71.0</td>\n",
       "      <td>30.0</td>\n",
       "      <td>0.0</td>\n",
       "    </tr>\n",
       "    <tr>\n",
       "      <th>38280</th>\n",
       "      <td>3086</td>\n",
       "      <td>2495.0</td>\n",
       "      <td>3127.0</td>\n",
       "      <td>3086.0</td>\n",
       "    </tr>\n",
       "    <tr>\n",
       "      <th>38406</th>\n",
       "      <td>3086</td>\n",
       "      <td>2665.0</td>\n",
       "      <td>3127.0</td>\n",
       "      <td>3086.0</td>\n",
       "    </tr>\n",
       "    <tr>\n",
       "      <th>11684</th>\n",
       "      <td>0</td>\n",
       "      <td>-452.0</td>\n",
       "      <td>30.0</td>\n",
       "      <td>0.0</td>\n",
       "    </tr>\n",
       "    <tr>\n",
       "      <th>18239</th>\n",
       "      <td>1</td>\n",
       "      <td>1169.0</td>\n",
       "      <td>42.0</td>\n",
       "      <td>2.0</td>\n",
       "    </tr>\n",
       "    <tr>\n",
       "      <th>30561</th>\n",
       "      <td>3228</td>\n",
       "      <td>2895.0</td>\n",
       "      <td>3127.0</td>\n",
       "      <td>3228.0</td>\n",
       "    </tr>\n",
       "    <tr>\n",
       "      <th>5432</th>\n",
       "      <td>0</td>\n",
       "      <td>-252.0</td>\n",
       "      <td>0.0</td>\n",
       "      <td>0.0</td>\n",
       "    </tr>\n",
       "    <tr>\n",
       "      <th>41997</th>\n",
       "      <td>3043</td>\n",
       "      <td>2962.0</td>\n",
       "      <td>3127.0</td>\n",
       "      <td>3043.0</td>\n",
       "    </tr>\n",
       "    <tr>\n",
       "      <th>34647</th>\n",
       "      <td>2831</td>\n",
       "      <td>3097.0</td>\n",
       "      <td>3127.0</td>\n",
       "      <td>2831.0</td>\n",
       "    </tr>\n",
       "    <tr>\n",
       "      <th>8792</th>\n",
       "      <td>219</td>\n",
       "      <td>843.0</td>\n",
       "      <td>420.0</td>\n",
       "      <td>219.0</td>\n",
       "    </tr>\n",
       "    <tr>\n",
       "      <th>884</th>\n",
       "      <td>0</td>\n",
       "      <td>92.0</td>\n",
       "      <td>30.0</td>\n",
       "      <td>0.0</td>\n",
       "    </tr>\n",
       "    <tr>\n",
       "      <th>37742</th>\n",
       "      <td>3086</td>\n",
       "      <td>3026.0</td>\n",
       "      <td>3127.0</td>\n",
       "      <td>3086.0</td>\n",
       "    </tr>\n",
       "    <tr>\n",
       "      <th>21951</th>\n",
       "      <td>3180</td>\n",
       "      <td>2848.0</td>\n",
       "      <td>3127.0</td>\n",
       "      <td>3180.0</td>\n",
       "    </tr>\n",
       "    <tr>\n",
       "      <th>11612</th>\n",
       "      <td>0</td>\n",
       "      <td>331.0</td>\n",
       "      <td>30.0</td>\n",
       "      <td>11.0</td>\n",
       "    </tr>\n",
       "    <tr>\n",
       "      <th>3635</th>\n",
       "      <td>0</td>\n",
       "      <td>-1024.0</td>\n",
       "      <td>0.0</td>\n",
       "      <td>0.0</td>\n",
       "    </tr>\n",
       "    <tr>\n",
       "      <th>15099</th>\n",
       "      <td>3241</td>\n",
       "      <td>3069.0</td>\n",
       "      <td>3127.0</td>\n",
       "      <td>3241.0</td>\n",
       "    </tr>\n",
       "    <tr>\n",
       "      <th>5593</th>\n",
       "      <td>0</td>\n",
       "      <td>-262.0</td>\n",
       "      <td>0.0</td>\n",
       "      <td>0.0</td>\n",
       "    </tr>\n",
       "    <tr>\n",
       "      <th>15792</th>\n",
       "      <td>3241</td>\n",
       "      <td>3196.0</td>\n",
       "      <td>3127.0</td>\n",
       "      <td>3241.0</td>\n",
       "    </tr>\n",
       "    <tr>\n",
       "      <th>33941</th>\n",
       "      <td>2831</td>\n",
       "      <td>3014.0</td>\n",
       "      <td>3127.0</td>\n",
       "      <td>2831.0</td>\n",
       "    </tr>\n",
       "    <tr>\n",
       "      <th>7191</th>\n",
       "      <td>743</td>\n",
       "      <td>758.0</td>\n",
       "      <td>420.0</td>\n",
       "      <td>743.0</td>\n",
       "    </tr>\n",
       "    <tr>\n",
       "      <th>6264</th>\n",
       "      <td>0</td>\n",
       "      <td>107.0</td>\n",
       "      <td>30.0</td>\n",
       "      <td>0.0</td>\n",
       "    </tr>\n",
       "    <tr>\n",
       "      <th>8691</th>\n",
       "      <td>2973</td>\n",
       "      <td>2723.0</td>\n",
       "      <td>3127.0</td>\n",
       "      <td>2973.0</td>\n",
       "    </tr>\n",
       "    <tr>\n",
       "      <th>15839</th>\n",
       "      <td>3241</td>\n",
       "      <td>3106.0</td>\n",
       "      <td>3127.0</td>\n",
       "      <td>3241.0</td>\n",
       "    </tr>\n",
       "    <tr>\n",
       "      <th>28846</th>\n",
       "      <td>1536</td>\n",
       "      <td>981.0</td>\n",
       "      <td>1494.0</td>\n",
       "      <td>1536.0</td>\n",
       "    </tr>\n",
       "  </tbody>\n",
       "</table>\n",
       "<p>9160 rows × 4 columns</p>\n",
       "</div>"
      ],
      "text/plain": [
       "       Actual  y_pred_Reg  y_pred_dt  y_pred_rf\n",
       "13944       4       819.0       42.0       16.0\n",
       "36625       0         3.0        0.0        0.0\n",
       "8804      219       477.0      420.0      221.0\n",
       "16908    3241      2946.0     3127.0     3241.0\n",
       "27109    3309      2683.0     3127.0     3309.0\n",
       "26700    3309      2478.0     3127.0     3309.0\n",
       "17653    3241      3042.0     3127.0     3241.0\n",
       "30211    3228      2520.0     3127.0     3228.0\n",
       "26143    3309      2233.0     3127.0     3306.0\n",
       "17837    3241      3366.0     3127.0     3241.0\n",
       "30927    3228      2970.0     3127.0     3225.0\n",
       "39087    3086      2702.0     3127.0     3086.0\n",
       "40023    3086      2748.0     3127.0     3086.0\n",
       "18338       0      1008.0       42.0        1.0\n",
       "21339    3180      2355.0     3127.0     3180.0\n",
       "2536        0       149.0        0.0        0.0\n",
       "20555       1      1523.0       48.0       56.0\n",
       "28108    1536      1041.0     1494.0     1536.0\n",
       "14846       0      -576.0        0.0        0.0\n",
       "11326      57      -202.0       42.0       57.0\n",
       "27239       0       385.0       30.0        0.0\n",
       "14242       0      -475.0        0.0        0.0\n",
       "22524       0       169.0        0.0        0.0\n",
       "34426    2831      2671.0     3127.0     2831.0\n",
       "33536       0       319.0       42.0        6.0\n",
       "40551       9      1517.0       42.0       14.0\n",
       "30635    1536       883.0     1494.0     1536.0\n",
       "26229    3309      2628.0     3127.0     3309.0\n",
       "30844       0       455.0        0.0        0.0\n",
       "36879       0      -959.0       42.0        0.0\n",
       "...       ...         ...        ...        ...\n",
       "21485    3180      2728.0     3127.0     3180.0\n",
       "14212       0     -2559.0        0.0        0.0\n",
       "15160    3241      3374.0     3127.0     3241.0\n",
       "15540    3241      2972.0     3127.0     3241.0\n",
       "40070    3086      3644.0     3127.0     3086.0\n",
       "26093    3309      2815.0     3127.0     3309.0\n",
       "36002       0        71.0       30.0        0.0\n",
       "38280    3086      2495.0     3127.0     3086.0\n",
       "38406    3086      2665.0     3127.0     3086.0\n",
       "11684       0      -452.0       30.0        0.0\n",
       "18239       1      1169.0       42.0        2.0\n",
       "30561    3228      2895.0     3127.0     3228.0\n",
       "5432        0      -252.0        0.0        0.0\n",
       "41997    3043      2962.0     3127.0     3043.0\n",
       "34647    2831      3097.0     3127.0     2831.0\n",
       "8792      219       843.0      420.0      219.0\n",
       "884         0        92.0       30.0        0.0\n",
       "37742    3086      3026.0     3127.0     3086.0\n",
       "21951    3180      2848.0     3127.0     3180.0\n",
       "11612       0       331.0       30.0       11.0\n",
       "3635        0     -1024.0        0.0        0.0\n",
       "15099    3241      3069.0     3127.0     3241.0\n",
       "5593        0      -262.0        0.0        0.0\n",
       "15792    3241      3196.0     3127.0     3241.0\n",
       "33941    2831      3014.0     3127.0     2831.0\n",
       "7191      743       758.0      420.0      743.0\n",
       "6264        0       107.0       30.0        0.0\n",
       "8691     2973      2723.0     3127.0     2973.0\n",
       "15839    3241      3106.0     3127.0     3241.0\n",
       "28846    1536       981.0     1494.0     1536.0\n",
       "\n",
       "[9160 rows x 4 columns]"
      ]
     },
     "execution_count": 61,
     "metadata": {},
     "output_type": "execute_result"
    }
   ],
   "source": [
    "prediction"
   ]
  },
  {
   "cell_type": "code",
   "execution_count": 62,
   "metadata": {},
   "outputs": [
    {
     "data": {
      "image/png": "[encoded data removed]",
      "text/plain": [
       "<Figure size 432x288 with 1 Axes>"
      ]
     },
     "metadata": {},
     "output_type": "display_data"
    }
   ],
   "source": [
    "fig, ax = plt.subplots()\n",
    "ax.scatter(y_test, y_pred_rf)\n",
    "ax.plot([y_test.min(), y_test.max()], [y_test.min(), y_test.max()], 'k--', lw=4)\n",
    "ax.set_xlabel('Measured')\n",
    "ax.set_ylabel('Predicted')\n",
    "plt.show()"
   ]
  },
  {
   "cell_type": "code",
   "execution_count": 63,
   "metadata": {},
   "outputs": [],
   "source": [
    "#Now trying to achieve further better results using Principal Component analysis "
   ]
  },
  {
   "cell_type": "code",
   "execution_count": 64,
   "metadata": {},
   "outputs": [],
   "source": [
    "pca = PCA()\n",
    "principalComponents = pca.fit_transform(x_train)\n",
    "pca_test = pca.transform(x_test)"
   ]
  },
  {
   "cell_type": "code",
   "execution_count": 65,
   "metadata": {},
   "outputs": [
    {
     "data": {
      "text/plain": [
       "array([0.31301859, 0.23874335, 0.16340589, 0.09828895, 0.09056786,\n",
       "       0.06367341, 0.03131905, 0.00098289])"
      ]
     },
     "execution_count": 65,
     "metadata": {},
     "output_type": "execute_result"
    }
   ],
   "source": [
    "explained_variance = pca.explained_variance_ratio_\n",
    "explained_variance"
   ]
  },
  {
   "cell_type": "code",
   "execution_count": 66,
   "metadata": {},
   "outputs": [],
   "source": [
    "pca = PCA(0.95)\n",
    "principalComponents = pca.fit_transform(x_train)\n",
    "pca_test = pca.transform(x_test)"
   ]
  },
  {
   "cell_type": "code",
   "execution_count": 67,
   "metadata": {},
   "outputs": [
    {
     "data": {
      "text/plain": [
       "array([0.31301859, 0.23874335, 0.16340589, 0.09828895, 0.09056786,\n",
       "       0.06367341])"
      ]
     },
     "execution_count": 67,
     "metadata": {},
     "output_type": "execute_result"
    }
   ],
   "source": [
    "explained_variance = pca.explained_variance_ratio_\n",
    "explained_variance"
   ]
  },
  {
   "cell_type": "code",
   "execution_count": 68,
   "metadata": {},
   "outputs": [
    {
     "name": "stdout",
     "output_type": "stream",
     "text": [
      "[0.70434318 0.11223596 0.10639152 0.04942643 0.01499346 0.01260944]\n",
      "0.9983664514146475\n"
     ]
    }
   ],
   "source": [
    "#Training:\n",
    "#Random Forest regression\n",
    "\n",
    "rf = RandomForestRegressor(n_estimators=150, min_samples_split=4)\n",
    "rf.fit(principalComponents, y_train)\n",
    "print(rf.feature_importances_)\n",
    "print(rf.score(principalComponents, y_train))"
   ]
  },
  {
   "cell_type": "code",
   "execution_count": 69,
   "metadata": {},
   "outputs": [],
   "source": [
    "y_pred_rf1 = rf.predict(pca_test)"
   ]
  },
  {
   "cell_type": "code",
   "execution_count": 70,
   "metadata": {},
   "outputs": [
    {
     "name": "stdout",
     "output_type": "stream",
     "text": [
      "0.9885831876917786\n",
      "25451.677401746725\n"
     ]
    }
   ],
   "source": [
    "print(rf.score(pca_test, y_test))\n",
    "print(mean_squared_error(y_test,y_pred_rf1.round()))"
   ]
  },
  {
   "cell_type": "code",
   "execution_count": null,
   "metadata": {},
   "outputs": [],
   "source": []
  }
 ],
 "metadata": {
  "kernelspec": {
   "display_name": "Python 3",
   "language": "python",
   "name": "python3"
  },
  "language_info": {
   "codemirror_mode": {
    "name": "ipython",
    "version": 3
   },
   "file_extension": ".py",
   "mimetype": "text/x-python",
   "name": "python",
   "nbconvert_exporter": "python",
   "pygments_lexer": "ipython3",
   "version": "3.6.5"
  }
 },
 "nbformat": 4,
 "nbformat_minor": 2
}
